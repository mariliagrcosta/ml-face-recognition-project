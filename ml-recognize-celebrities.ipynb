{
 "cells": [
  {
   "cell_type": "markdown",
   "id": "bbbb36a5",
   "metadata": {},
   "source": [
    "# PROJETO INTERDISCIPLINAR PARA SISTEMAS DE INFORMAÇÃO IV\n",
    "## PROJETO FINAL\n",
    "\n",
    "*Aluna: Marília Gouveia Rodrigues Costa*"
   ]
  },
  {
   "cell_type": "markdown",
   "id": "47e00b08",
   "metadata": {},
   "source": [
    "__________________________"
   ]
  },
  {
   "cell_type": "markdown",
   "id": "1e39e995",
   "metadata": {},
   "source": [
    "#### INFORMAÇÕES BÁSICAS SOBRE O PROJETO"
   ]
  },
  {
   "cell_type": "markdown",
   "id": "8d630300",
   "metadata": {},
   "source": [
    "##### APLICAÇÕES ESCOLHIDAS"
   ]
  },
  {
   "cell_type": "markdown",
   "id": "68ee4899",
   "metadata": {},
   "source": [
    "- Aplicação de **reconhecimento facial ou de objetos** utilizando o **Amazon Rekognition**;\n",
    "- Criar um serviço **Text-to-Speech (TTS)** utilizando **Amazon Polly**;"
   ]
  },
  {
   "cell_type": "markdown",
   "id": "3a01854d",
   "metadata": {},
   "source": [
    "##### OBJETIVOS DO PROJETO"
   ]
  },
  {
   "cell_type": "markdown",
   "id": "139554e0",
   "metadata": {},
   "source": [
    "- ###### OBJETIVO GERAL"
   ]
  },
  {
   "cell_type": "markdown",
   "id": "daee197a",
   "metadata": {},
   "source": [
    "Desenvolvimento de um sistema para **renhecimento de fotos de pessoas famosas**, que reconheça a pessoa e reproduza seu nome em um alto-falante."
   ]
  },
  {
   "cell_type": "markdown",
   "id": "6e8adcad",
   "metadata": {},
   "source": [
    "- ###### OBJETIVO ESPECÍFICOS"
   ]
  },
  {
   "cell_type": "markdown",
   "id": "78674134",
   "metadata": {},
   "source": [
    "Desenvolvimento de um sistema capaz de reconhecer um ou mais famosos em fotos e reproduzir seu nome em um alto-falante."
   ]
  },
  {
   "cell_type": "markdown",
   "id": "2298a721",
   "metadata": {},
   "source": [
    "__________________________"
   ]
  },
  {
   "cell_type": "markdown",
   "id": "1a21f441",
   "metadata": {},
   "source": [
    "#### CÓDIGO"
   ]
  },
  {
   "cell_type": "markdown",
   "id": "236835d2",
   "metadata": {},
   "source": [
    "##### IMPORTAÇÃO DE PACOTES DO PYTHON"
   ]
  },
  {
   "cell_type": "markdown",
   "id": "89a6e7aa",
   "metadata": {},
   "source": [
    "Importação de pacotes do Python que serão necessários para o desenvolvimento do projeto.\n",
    "\n",
    "- *boto3*: Kit de desenvolvimento de software (SDK) da Amazon Web Services (AWS) para Python, que tem como objetivo facilitar a integração do script Python aos serviços da AWS;\n",
    "- *matplotlib*: Fornecimento de funções de plotagem;\n",
    "- *PIL*: Biblioteca de imagens do Python, que possui um conjunto de ferramentas destinadas ao desenho de imagens;"
   ]
  },
  {
   "cell_type": "code",
   "execution_count": 69,
   "id": "f4109629",
   "metadata": {},
   "outputs": [],
   "source": [
    "import boto3\n",
    "\n",
    "from matplotlib import pyplot as plt\n",
    "\n",
    "from PIL import Image, ImageDraw, ImageColor, ImageOps"
   ]
  },
  {
   "cell_type": "markdown",
   "id": "46823179",
   "metadata": {},
   "source": [
    "##### CRIAÇÃO DE CLIENTES DE SERVIÇOS"
   ]
  },
  {
   "cell_type": "markdown",
   "id": "d057aad1",
   "metadata": {},
   "source": [
    "Cria clientes de serviços do Amazon Rekognition e do Amazon Polly."
   ]
  },
  {
   "cell_type": "markdown",
   "id": "b362f675",
   "metadata": {},
   "source": [
    "- *Criação,  por nome , de clientes de serviços de baixo nível usando a sessão padrão.*"
   ]
  },
  {
   "cell_type": "code",
   "execution_count": 70,
   "id": "d73c17f1",
   "metadata": {},
   "outputs": [],
   "source": [
    "client_amzrekognition = boto3.client('rekognition') # Amazon Rekognition\n",
    "client_amzpolly = boto3.client('polly') # Amazon Polly"
   ]
  },
  {
   "cell_type": "markdown",
   "id": "5b8fe2b7",
   "metadata": {},
   "source": [
    "##### DEFINIÇÃO DA FUNÇÃO RESPONSÁVEL PELO RECONHECIMENTO DAS(S) CELEBRIDADE(S)"
   ]
  },
  {
   "cell_type": "markdown",
   "id": "ed831296",
   "metadata": {},
   "source": [
    "Define a função resposável por reconhecer o(s) artista(s), presente(s) na foto passada como parâmetro, e indicar quantos foram encontrados, o nome e o id dentro do serviço de reconhecimento de celebridades do Amazon Rekognition de cada, caso haja mais de um, e a(s) posições da(s) caixa(s) delimitadora(s) na imagem."
   ]
  },
  {
   "cell_type": "code",
   "execution_count": 71,
   "id": "ad115fe2",
   "metadata": {},
   "outputs": [],
   "source": [
    "def recognize_celebrities(celebrity_photo):\n",
    "    \n",
    "    #Abre o arquivo que é passado como parâmetro como uma imagem.\n",
    "    with open(celebrity_photo, \"rb\") as image:\n",
    "        \n",
    "        # Retona uma matriz de celebridades reconhecidas na imagem passada.\n",
    "        celebrities = client_amzrekognition.recognize_celebrities (Image = { \n",
    "            \"Bytes\": image.read()\n",
    "        })\n",
    "    \n",
    "    # Retorna um array contendo todas as informações analisadas na foto e existentes no serviço, sobre cada celebridade reconhecida.\n",
    "    return celebrities['CelebrityFaces']\n",
    "    "
   ]
  },
  {
   "cell_type": "markdown",
   "id": "8f0bfafb",
   "metadata": {},
   "source": [
    "##### RECEBIMENTO DA FOTO DO USUÁRIO"
   ]
  },
  {
   "cell_type": "markdown",
   "id": "314c2de5",
   "metadata": {},
   "source": [
    "Solicita ao usuário do nome do arquivo da foto que deseja analisar."
   ]
  },
  {
   "cell_type": "code",
   "execution_count": 73,
   "id": "9c18feb5",
   "metadata": {},
   "outputs": [],
   "source": [
    "photo = \"celebrities_photo2.jpg\""
   ]
  },
  {
   "cell_type": "markdown",
   "id": "274dc279",
   "metadata": {},
   "source": [
    "##### RECONHECIMENTO DAS(S) CELEBRIDADE(S)"
   ]
  },
  {
   "cell_type": "markdown",
   "id": "652bfaa8",
   "metadata": {},
   "source": [
    "Chama a função recognize_celebrities(celebrity_photo), definida anteriormente, resposável pela indentificação das faces na imagem e do recomhecimento das celebridades."
   ]
  },
  {
   "cell_type": "code",
   "execution_count": 74,
   "id": "915b9756",
   "metadata": {},
   "outputs": [],
   "source": [
    "recognition = recognize_celebrities(photo)"
   ]
  },
  {
   "cell_type": "markdown",
   "id": "090f2d6c",
   "metadata": {},
   "source": [
    "##### APRESENTAÇÃO DAS INFORMAÇÕES SOBRE O RECONHECIMENTO"
   ]
  },
  {
   "cell_type": "markdown",
   "id": "f8002d1c",
   "metadata": {},
   "source": [
    "Define uma lista vazia.\n",
    "\n",
    "Essa lista será responsável por armazenar o(s)  nome(s) da(s) celebridade(s) reconhecidas."
   ]
  },
  {
   "cell_type": "code",
   "execution_count": 75,
   "id": "b94ad1f7",
   "metadata": {},
   "outputs": [],
   "source": [
    "celebrities_names = []"
   ]
  },
  {
   "cell_type": "markdown",
   "id": "9ce85ac1",
   "metadata": {},
   "source": [
    "Imprime na tela informações sobre:\n",
    "\n",
    "- O RECONHECIMENTO DAS CELEBRIDADES: Quantidade de celebridades reconhecidas e a(s) posições da(s) caixa(s) delimitadora(s), que foram definidas, para cada face reconhecida, durante a análise da imagem;\n",
    "- AS CELEBRIDADES: Nome e o id dentro do serviço de reconhecimento de celebridades do Amazon Rekognition de cada, caso haja mais de um;"
   ]
  },
  {
   "cell_type": "code",
   "execution_count": 78,
   "id": "6a485b7f",
   "metadata": {},
   "outputs": [
    {
     "name": "stdout",
     "output_type": "stream",
     "text": [
      "DETECÇÃO DE FACES PRESENTES NA IMAGEM 'celebrities_photo2.jpg'\n",
      "\n",
      "CELEBRIDADES DETECTADAS: 3\n",
      "\n",
      "Nome: Tom Hiddleston\n",
      "Id: 39Ee4N\n",
      "Posição na Imagem:\n",
      "   Esquerda: 0.13\n",
      "   Superior: 0.43\n",
      "\n",
      "Nome: Benedict Cumberbatch\n",
      "Id: cv9Gc9\n",
      "Posição na Imagem:\n",
      "   Esquerda: 0.12\n",
      "   Superior: 0.47\n",
      "\n",
      "Nome: Tom Holland\n",
      "Id: ua51E\n",
      "Posição na Imagem:\n",
      "   Esquerda: 0.10\n",
      "   Superior: 0.51\n",
      "\n"
     ]
    }
   ],
   "source": [
    "# Imprime o nome do arquivo que está sendo analisada.   \n",
    "print(\"DETECÇÃO DE FACES PRESENTES NA IMAGEM \" + \"'\" + photo + \"'\" + \"\\n\")\n",
    "    \n",
    "# Imprime a quantidade de faces que foram identificadas no reconhecimento.\n",
    "print(\"CELEBRIDADES DETECTADAS: \" + str(len(recognition)) + \"\\n\")\n",
    "        \n",
    "#Imprime, para cada celebridade reconhecida, seu nome, id e a caixa delimitadora.\n",
    "for celebrity in recognition:\n",
    "    \n",
    "    celebrities_names.append(celebrity['Name'])\n",
    "    \n",
    "    print ('Nome: ' + celebrity['Name'])\n",
    "    print ('Id: ' + celebrity['Id'])\n",
    "    print ('Posição na Imagem:')\n",
    "    print ('   Esquerda: ' + '{:.2f}'.format(celebrity['Face']['BoundingBox']['Height']))\n",
    "    print ('   Superior: ' + '{:.2f}'.format(celebrity['Face']['BoundingBox']['Top']) + \"\\n\")\n",
    "       "
   ]
  },
  {
   "cell_type": "markdown",
   "id": "dbd75e48",
   "metadata": {},
   "source": [
    "##### APRESENTAÇÃO DOS NOMES DAS CELEBRIDADES DETECTADAS"
   ]
  },
  {
   "cell_type": "markdown",
   "id": "7ca90dd4",
   "metadata": {},
   "source": [
    "Imprime em sequência o nome de todas as celebridades que foram reconhecidas durante a análise da foto."
   ]
  },
  {
   "cell_type": "code",
   "execution_count": 77,
   "id": "d6a77a4d",
   "metadata": {},
   "outputs": [
    {
     "name": "stdout",
     "output_type": "stream",
     "text": [
      "Tom Hiddleston\n",
      "Benedict Cumberbatch\n",
      "Tom Holland\n"
     ]
    }
   ],
   "source": [
    "for names in celebrities_names:\n",
    "    print(names)"
   ]
  }
 ],
 "metadata": {
  "kernelspec": {
   "display_name": "conda_python3",
   "language": "python",
   "name": "conda_python3"
  },
  "language_info": {
   "codemirror_mode": {
    "name": "ipython",
    "version": 3
   },
   "file_extension": ".py",
   "mimetype": "text/x-python",
   "name": "python",
   "nbconvert_exporter": "python",
   "pygments_lexer": "ipython3",
   "version": "3.6.13"
  }
 },
 "nbformat": 4,
 "nbformat_minor": 5
}
