{
 "cells": [
  {
   "cell_type": "markdown",
   "id": "f56c64f2",
   "metadata": {},
   "source": [
    "# PROJETO INTERDISCIPLINAR PARA SISTEMAS DE INFORMAÇÃO IV\n",
    "## PROJETO FINAL\n",
    "\n",
    "*Aluna: Marília Gouveia Rodrigues Costa*"
   ]
  },
  {
   "cell_type": "markdown",
   "id": "bb336efc",
   "metadata": {},
   "source": [
    "__________________________"
   ]
  },
  {
   "cell_type": "markdown",
   "id": "e837f447",
   "metadata": {},
   "source": [
    "#### INFORMAÇÕES BÁSICAS SOBRE O PROJETO"
   ]
  },
  {
   "cell_type": "markdown",
   "id": "24bc0dd5",
   "metadata": {},
   "source": [
    "##### APLICAÇÕES ESCOLHIDAS"
   ]
  },
  {
   "cell_type": "markdown",
   "id": "dd6ee53c",
   "metadata": {},
   "source": [
    "- Aplicação de **reconhecimento facial ou de objetos** utilizando o **Amazon Rekognition**;\n",
    "- Criação de um serviço **Text-to-Speech (TTS)** utilizando **Amazon Polly**;"
   ]
  },
  {
   "cell_type": "markdown",
   "id": "ebfa55ac",
   "metadata": {},
   "source": [
    "##### OBJETIVOS DO PROJETO"
   ]
  },
  {
   "cell_type": "markdown",
   "id": "e5e8f6b7",
   "metadata": {},
   "source": [
    "- ###### OBJETIVO GERAL"
   ]
  },
  {
   "cell_type": "markdown",
   "id": "69ef751f",
   "metadata": {},
   "source": [
    "Desenvolvimento de um sistema para **renhecimento de fotos de pessoas famosas**, que reconheça a pessoa e reproduza seu nome em um alto-falante."
   ]
  },
  {
   "cell_type": "markdown",
   "id": "8f402a24",
   "metadata": {},
   "source": [
    "- ###### OBJETIVO ESPECÍFICOS"
   ]
  },
  {
   "cell_type": "markdown",
   "id": "c4cf3928",
   "metadata": {},
   "source": [
    "Desenvolvimento de um sistema capaz de reconhecer um ou mais famosos em fotos e reproduzir seu nome em um alto-falante."
   ]
  },
  {
   "cell_type": "markdown",
   "id": "38c8bf05",
   "metadata": {},
   "source": [
    "##### SERVIÇOS UTILIZADOS"
   ]
  },
  {
   "cell_type": "markdown",
   "id": "81720737",
   "metadata": {},
   "source": [
    "- Amazon SageMaker: Plataforma de aprendizado de máquina na nuvem;\n",
    "- Amazon Rekognition: Plataforma de serviço de visão computacional;\n",
    "- Amazon Polly: Plataforma capaz de converter texto em áudio falado;"
   ]
  },
  {
   "cell_type": "markdown",
   "id": "a8b17e0e",
   "metadata": {},
   "source": [
    "__________________________"
   ]
  },
  {
   "cell_type": "markdown",
   "id": "04806592",
   "metadata": {},
   "source": [
    "#### CÓDIGO"
   ]
  },
  {
   "cell_type": "markdown",
   "id": "ec454e11",
   "metadata": {},
   "source": [
    "##### INSTALAÇÃO DE MÓDULOS"
   ]
  },
  {
   "cell_type": "markdown",
   "id": "112898f9",
   "metadata": {},
   "source": [
    "##### IMPORTAÇÃO DE PACOTES PYTHON"
   ]
  },
  {
   "cell_type": "markdown",
   "id": "6cfdcdcc",
   "metadata": {},
   "source": [
    "Importação de pacotes do Python que serão necessários para o desenvolvimento do projeto.\n",
    "\n",
    "- *boto3*: Kit de desenvolvimento de software (SDK) da Amazon Web Services (AWS) para Python, que tem como objetivo facilitar a integração do script Python aos serviços da AWS;\n",
    "- *matplotlib*: Fornecimento de funções de plotagem;\n",
    "- *PIL*: Biblioteca de imagens do Python, que possui um conjunto de ferramentas destinadas ao desenho de imagens;"
   ]
  },
  {
   "cell_type": "code",
   "execution_count": 4,
   "id": "306c7709",
   "metadata": {},
   "outputs": [],
   "source": [
    "import boto3\n",
    "\n",
    "from matplotlib import pyplot as plt\n",
    "\n",
    "from PIL import Image, ImageDraw, ImageColor, ImageOps"
   ]
  },
  {
   "cell_type": "markdown",
   "id": "da7d5cb0",
   "metadata": {},
   "source": [
    "##### CRIAÇÃO DE CLIENTES DE SERVIÇOS"
   ]
  },
  {
   "cell_type": "markdown",
   "id": "c3917c0e",
   "metadata": {},
   "source": [
    "Cria clientes de serviços do Amazon Rekognition e do Amazon Polly."
   ]
  },
  {
   "cell_type": "markdown",
   "id": "73c4aad9",
   "metadata": {},
   "source": [
    "- *Criação,  por nome , de clientes de serviços de baixo nível usando a sessão padrão.*"
   ]
  },
  {
   "cell_type": "code",
   "execution_count": 5,
   "id": "cd7ea8af",
   "metadata": {},
   "outputs": [
    {
     "name": "stderr",
     "output_type": "stream",
     "text": [
      "/home/ec2-user/anaconda3/envs/python3/lib/python3.6/site-packages/boto3/compat.py:88: PythonDeprecationWarning: Boto3 will no longer support Python 3.6 starting May 30, 2022. To continue receiving service updates, bug fixes, and security updates please upgrade to Python 3.7 or later. More information can be found here: https://aws.amazon.com/blogs/developer/python-support-policy-updates-for-aws-sdks-and-tools/\n",
      "  warnings.warn(warning, PythonDeprecationWarning)\n"
     ]
    }
   ],
   "source": [
    "client_amzrekognition = boto3.client(\"rekognition\") # Amazon Rekognition\n",
    "client_amzpolly = boto3.client(\"polly\") # Amazon Polly"
   ]
  },
  {
   "cell_type": "markdown",
   "id": "913d1848",
   "metadata": {},
   "source": [
    "##### DEFINIÇÃO DA FUNÇÃO RESPONSÁVEL PELO RECONHECIMENTO DAS CELEBRIDADE"
   ]
  },
  {
   "cell_type": "markdown",
   "id": "f0bc096f",
   "metadata": {},
   "source": [
    "Define a função resposável por reconhecer os artistas, presentes na foto passada como parâmetro, e indicar quantos foram encontrados, o nome e o id dentro do serviço de reconhecimento de celebridades do Amazon Rekognition de cada, caso haja mais de um, e as posições das caixas delimitadoras na imagem."
   ]
  },
  {
   "cell_type": "code",
   "execution_count": 6,
   "id": "424643a4",
   "metadata": {},
   "outputs": [],
   "source": [
    "def recognize_celebrities(celebrity_photo):\n",
    "    \n",
    "    #Abre o arquivo que é passado como parâmetro como uma imagem.\n",
    "    with open(celebrity_photo, mode = \"rb\") as image:\n",
    "        \n",
    "        # Retona uma matriz de celebridades reconhecidas na imagem passada.\n",
    "        response = client_amzrekognition.recognize_celebrities (Image = { \n",
    "            \"Bytes\": image.read()\n",
    "        })\n",
    "    \n",
    "    # Retorna um array contendo todas as informações analisadas na foto e existentes no serviço, sobre cada celebridade reconhecida.\n",
    "    return response['CelebrityFaces']\n",
    "    "
   ]
  },
  {
   "cell_type": "markdown",
   "id": "f4fd6c6f",
   "metadata": {},
   "source": [
    "ANOTAÇÕES:\n",
    "\n",
    "Um dos parâmetros da função \"open()\" é o \"mode\" e o mesmo define o modo em que o arquivo será aberto.\n",
    "\n",
    "- \"r\":Abre o arquivo para leitura (DEFAULT);\n",
    "- \"b\": Abre o arquivo no modo binário;\n",
    "- \"rb\" Abre o arquivo no modo binário para leitura;\n",
    "- \"wb\": Abre o arquivo no modo binário para escrita;"
   ]
  },
  {
   "cell_type": "markdown",
   "id": "f368c13b",
   "metadata": {},
   "source": [
    "##### DEFINIÇÃO DA FUNÇÃO RESPONSÁVEL PELO DESENHO DAS CAIXAS DELIMITADORAS"
   ]
  },
  {
   "cell_type": "markdown",
   "id": "cde03adf",
   "metadata": {},
   "source": [
    "Define a função resposável por desenhar as caixas delimitadoras nos rostos de todas as celebridades que foram reconhecidas na foto e plotar a imagem já com as caixas delimitadoras desenhadas."
   ]
  },
  {
   "cell_type": "code",
   "execution_count": 87,
   "id": "50594779",
   "metadata": {},
   "outputs": [],
   "source": [
    "def boundingbox(photo, recognition):\n",
    "    \n",
    "    #Abre e identifica o arquivo de imagem fornecido.\n",
    "    image = Image.open(photo)\n",
    "    \n",
    "    #Atribui a cada uma das variáveis, respectivamente, a largura e a altura da imagem fornecida.\n",
    "    img_width, img_height = image.size\n",
    "    \n",
    "    #Cria um objeto que pode ser usado para desenhar na imagem fornecida.\n",
    "    draw = ImageDraw.Draw(image)\n",
    "\n",
    "    #Desenha uam caixa delimitadora para cada celebridade identificada na foto. \n",
    "    for celebrity in recognition:\n",
    "        \n",
    "        box = celebrity['Face']['BoundingBox']\n",
    "        \n",
    "        #Atribui a variável o valor da coordenada do topo da caixa como uma proporção da altura geral da imagem.\n",
    "        top = img_height * box['Top']\n",
    "        #Atribui a variável o valor da largura da caixa como uma proporção da largura geral da imagem.\n",
    "        width = img_width * box['Width']\n",
    "        #Atribui a variável o valor da altura da caixa como uma proporção da altura geral da imagem.\n",
    "        height = img_height * box['Height']\n",
    "        #Atribui a variável o valor da coordenada esquerda da caixa como uma proporção da largura geral da imagem.\n",
    "        left = img_width * box['Left']\n",
    "        \n",
    "        #Atribui a variável tuplas contendo os pontos (coordenadas) que delimitam uma caixa delimitadora\n",
    "        coordinates = ((left,top),(left+width,top),(left+width,top+height),(left,top+height),(left,top))\n",
    "\n",
    "        #Desenha uma linha azul entre os pontos (coordenadas) passados.\n",
    "        draw.line(coordinates, fill='blue', width=4)"
   ]
  },
  {
   "cell_type": "markdown",
   "id": "75fb305f",
   "metadata": {},
   "source": [
    "##### ARMAZENAMENTO DA FOTO ESCOLHIDA"
   ]
  },
  {
   "cell_type": "markdown",
   "id": "f92cbc9a",
   "metadata": {},
   "source": [
    "Atribui a variável o nome do arquivo da imagem que será analisada."
   ]
  },
  {
   "cell_type": "code",
   "execution_count": 88,
   "id": "208dd9d9",
   "metadata": {},
   "outputs": [],
   "source": [
    "photo = \"photo3.jpg\""
   ]
  },
  {
   "cell_type": "markdown",
   "id": "f792a6e8",
   "metadata": {},
   "source": [
    "##### RECONHECIMENTO DAS CELEBRIDADES"
   ]
  },
  {
   "cell_type": "markdown",
   "id": "9dd94158",
   "metadata": {},
   "source": [
    "Chama a função recognize_celebrities(celebrity_photo), definida anteriormente, resposável pela indentificação das faces na imagem e do reconhecidas das celebridades."
   ]
  },
  {
   "cell_type": "code",
   "execution_count": 89,
   "id": "b085d47b",
   "metadata": {},
   "outputs": [],
   "source": [
    "recognition = recognize_celebrities(photo)"
   ]
  },
  {
   "cell_type": "markdown",
   "id": "f604ec44",
   "metadata": {},
   "source": [
    "Chama a função recognize_celebrities(celebrity_photo), definida anteriormente, resposável pelo desenho das caixas delititadoras nos rostos das celebridades reconhecidas e pela plotagem da imagem com as caixas desenhadas."
   ]
  },
  {
   "cell_type": "code",
   "execution_count": 90,
   "id": "db3dc8d1",
   "metadata": {},
   "outputs": [
    {
     "ename": "TypeError",
     "evalue": "int() argument must be a string, a bytes-like object or a number, not 'tuple'",
     "output_type": "error",
     "traceback": [
      "\u001b[0;31m---------------------------------------------------------------------------\u001b[0m",
      "\u001b[0;31mTypeError\u001b[0m                                 Traceback (most recent call last)",
      "\u001b[0;32m<ipython-input-90-d1f9767ce49f>\u001b[0m in \u001b[0;36m<module>\u001b[0;34m\u001b[0m\n\u001b[0;32m----> 1\u001b[0;31m \u001b[0mboundingbox\u001b[0m\u001b[0;34m(\u001b[0m\u001b[0mphoto\u001b[0m\u001b[0;34m,\u001b[0m \u001b[0mrecognition\u001b[0m\u001b[0;34m)\u001b[0m\u001b[0;34m\u001b[0m\u001b[0;34m\u001b[0m\u001b[0m\n\u001b[0m",
      "\u001b[0;32m<ipython-input-87-460258bcb8ba>\u001b[0m in \u001b[0;36mboundingbox\u001b[0;34m(photo, recognition)\u001b[0m\n\u001b[1;32m     26\u001b[0m         \u001b[0;31m#Atribui a variável tuplas contendo os pontos (coordenadas) que delimitam uma caixa delimitadora\u001b[0m\u001b[0;34m\u001b[0m\u001b[0;34m\u001b[0m\u001b[0;34m\u001b[0m\u001b[0m\n\u001b[1;32m     27\u001b[0m         \u001b[0mcoordinates\u001b[0m \u001b[0;34m=\u001b[0m \u001b[0;34m(\u001b[0m\u001b[0;34m(\u001b[0m\u001b[0mleft\u001b[0m\u001b[0;34m,\u001b[0m\u001b[0mtop\u001b[0m\u001b[0;34m)\u001b[0m\u001b[0;34m,\u001b[0m\u001b[0;34m(\u001b[0m\u001b[0mleft\u001b[0m\u001b[0;34m+\u001b[0m\u001b[0mwidth\u001b[0m\u001b[0;34m,\u001b[0m\u001b[0mtop\u001b[0m\u001b[0;34m)\u001b[0m\u001b[0;34m,\u001b[0m\u001b[0;34m(\u001b[0m\u001b[0mleft\u001b[0m\u001b[0;34m+\u001b[0m\u001b[0mwidth\u001b[0m\u001b[0;34m,\u001b[0m\u001b[0mtop\u001b[0m\u001b[0;34m+\u001b[0m\u001b[0mheight\u001b[0m\u001b[0;34m)\u001b[0m\u001b[0;34m,\u001b[0m\u001b[0;34m(\u001b[0m\u001b[0mleft\u001b[0m\u001b[0;34m,\u001b[0m\u001b[0mtop\u001b[0m\u001b[0;34m+\u001b[0m\u001b[0mheight\u001b[0m\u001b[0;34m)\u001b[0m\u001b[0;34m,\u001b[0m\u001b[0;34m(\u001b[0m\u001b[0mleft\u001b[0m\u001b[0;34m,\u001b[0m\u001b[0mtop\u001b[0m\u001b[0;34m)\u001b[0m\u001b[0;34m)\u001b[0m\u001b[0;34m\u001b[0m\u001b[0;34m\u001b[0m\u001b[0m\n\u001b[0;32m---> 28\u001b[0;31m         \u001b[0mint_coordinates\u001b[0m \u001b[0;34m=\u001b[0m \u001b[0;34m(\u001b[0m\u001b[0mint\u001b[0m\u001b[0;34m(\u001b[0m\u001b[0;34m(\u001b[0m\u001b[0mleft\u001b[0m\u001b[0;34m,\u001b[0m\u001b[0mtop\u001b[0m\u001b[0;34m)\u001b[0m\u001b[0;34m)\u001b[0m\u001b[0;34m,\u001b[0m\u001b[0mint\u001b[0m\u001b[0;34m(\u001b[0m\u001b[0;34m(\u001b[0m\u001b[0mleft\u001b[0m\u001b[0;34m+\u001b[0m\u001b[0mwidth\u001b[0m\u001b[0;34m,\u001b[0m\u001b[0mtop\u001b[0m\u001b[0;34m)\u001b[0m\u001b[0;34m)\u001b[0m\u001b[0;34m,\u001b[0m\u001b[0mint\u001b[0m\u001b[0;34m(\u001b[0m\u001b[0;34m(\u001b[0m\u001b[0mleft\u001b[0m\u001b[0;34m+\u001b[0m\u001b[0mwidth\u001b[0m\u001b[0;34m,\u001b[0m\u001b[0mtop\u001b[0m\u001b[0;34m+\u001b[0m\u001b[0mheight\u001b[0m\u001b[0;34m)\u001b[0m\u001b[0;34m)\u001b[0m\u001b[0;34m,\u001b[0m\u001b[0mint\u001b[0m\u001b[0;34m(\u001b[0m\u001b[0;34m(\u001b[0m\u001b[0mleft\u001b[0m\u001b[0;34m,\u001b[0m\u001b[0mtop\u001b[0m\u001b[0;34m+\u001b[0m\u001b[0mheight\u001b[0m\u001b[0;34m)\u001b[0m\u001b[0;34m)\u001b[0m\u001b[0;34m,\u001b[0m\u001b[0mint\u001b[0m\u001b[0;34m(\u001b[0m\u001b[0;34m(\u001b[0m\u001b[0mleft\u001b[0m\u001b[0;34m,\u001b[0m\u001b[0mtop\u001b[0m\u001b[0;34m)\u001b[0m\u001b[0;34m)\u001b[0m\u001b[0;34m)\u001b[0m\u001b[0;34m\u001b[0m\u001b[0;34m\u001b[0m\u001b[0m\n\u001b[0m\u001b[1;32m     29\u001b[0m \u001b[0;34m\u001b[0m\u001b[0m\n\u001b[1;32m     30\u001b[0m         \u001b[0mprint\u001b[0m \u001b[0;34m(\u001b[0m\u001b[0;34m\"Nome: \"\u001b[0m \u001b[0;34m+\u001b[0m \u001b[0mcelebrity\u001b[0m\u001b[0;34m[\u001b[0m\u001b[0;34m\"Name\"\u001b[0m\u001b[0;34m]\u001b[0m\u001b[0;34m)\u001b[0m\u001b[0;34m\u001b[0m\u001b[0;34m\u001b[0m\u001b[0m\n",
      "\u001b[0;31mTypeError\u001b[0m: int() argument must be a string, a bytes-like object or a number, not 'tuple'"
     ]
    }
   ],
   "source": [
    "image = boundingbox(photo, recognition)\n",
    "\n",
    "#Exibe a imagem já com as caixas delimitadoras desenhadas\n",
    "plt.imshow(image)"
   ]
  },
  {
   "cell_type": "markdown",
   "id": "b999044c",
   "metadata": {},
   "source": [
    "##### EXIBAÇÃO DE INFORMAÇÕES SOBRE O RECONHECIMENTO E AS CELEBRIDADES"
   ]
  },
  {
   "cell_type": "markdown",
   "id": "43460498",
   "metadata": {},
   "source": [
    "Imprime importantes informações sobre o reconhecimento e as celebridades reconhecidas. Além de armazer uma lista com o nome nome das celebridades detectadas."
   ]
  },
  {
   "cell_type": "markdown",
   "id": "9894a40e",
   "metadata": {},
   "source": [
    "- Define uma lista vazia. Essa lista será responsável por armazenar os nomes das celebridades reconhecidas."
   ]
  },
  {
   "cell_type": "code",
   "execution_count": 53,
   "id": "339bea2c",
   "metadata": {},
   "outputs": [],
   "source": [
    "celebrities_list = []"
   ]
  },
  {
   "cell_type": "markdown",
   "id": "041f6ff7",
   "metadata": {},
   "source": [
    "- Imprime na tela informações sobre:\n",
    "\n",
    "  - O RECONHECIMENTO DAS CELEBRIDADES: Quantidade de celebridades reconhecidas;\n",
    "  - AS CELEBRIDADES: Nome e o id dentro do serviço de reconhecimento de celebridades do Amazon Rekognition de cada, caso haja mais de um;"
   ]
  },
  {
   "cell_type": "code",
   "execution_count": 75,
   "id": "97046b67",
   "metadata": {},
   "outputs": [
    {
     "name": "stdout",
     "output_type": "stream",
     "text": [
      "DETECÇÃO DE FACES PRESENTES NA IMAGEM 'ellen.jpg'\n",
      "\n",
      "CELEBRIDADES DETECTADAS: 6\n",
      "\n",
      "Nome: Bradley Cooper\n",
      "Id: 1u73Lk\n",
      "\n",
      "Nome: Jennifer Lawrence\n",
      "Id: 3HD3Qm3e\n",
      "\n",
      "Nome: Ellen DeGeneres\n",
      "Id: 4aD7HD8R\n",
      "\n",
      "Nome: Meryl Streep\n",
      "Id: 24Mx5De\n",
      "\n",
      "Nome: Brad Pitt\n",
      "Id: 1q4IR5\n",
      "\n",
      "Nome: Kevin Spacey\n",
      "Id: 2YB8Tw8B\n",
      "\n"
     ]
    }
   ],
   "source": [
    "# Imprime o nome do arquivo que está sendo analisada.   \n",
    "print(\"DETECÇÃO DE FACES PRESENTES NA IMAGEM \" + \"'\" + photo + \"'\" + \"\\n\")\n",
    "    \n",
    "# Imprime a quantidade de faces que foram identificadas no reconhecimento.\n",
    "print(\"CELEBRIDADES DETECTADAS: \" + str(len(recognition)) + \"\\n\")\n",
    "        \n",
    "#Imprime, para cada celebridade reconhecida, seu nome, id e a caixa delimitadora.\n",
    "for celebrity in recognition:\n",
    "    \n",
    "    celebrities_list.append(celebrity[\"Name\"])\n",
    "    \n",
    "    #Imprime o nome da celebridade.\n",
    "    print (\"Nome: \" + celebrity[\"Name\"])\n",
    "    #Imprime o id da celebridade dentro do serviço de reconhecimento de celebridades do Amazon Rekognition.\n",
    "    print (\"Id: \" + celebrity[\"Id\"]+ \"\\n\")   \n",
    "       "
   ]
  },
  {
   "cell_type": "markdown",
   "id": "cf8f618b",
   "metadata": {},
   "source": [
    "- Imprime, em sequência, o nome de todas as celebridades que foram reconhecidas durante a análise da foto."
   ]
  },
  {
   "cell_type": "code",
   "execution_count": 55,
   "id": "f8905c8c",
   "metadata": {},
   "outputs": [
    {
     "name": "stdout",
     "output_type": "stream",
     "text": [
      "Bradley Cooper\n",
      "Jennifer Lawrence\n",
      "Ellen DeGeneres\n",
      "Meryl Streep\n",
      "Brad Pitt\n",
      "Kevin Spacey\n"
     ]
    }
   ],
   "source": [
    "for names in celebrities_list:\n",
    "    print(names)"
   ]
  },
  {
   "cell_type": "markdown",
   "id": "7334eee7",
   "metadata": {},
   "source": [
    "##### DEFINIÇÃO DA FUNÇÃO RESPONSÁVEL PELA LEITURA DOS NOMES DAS CELEBRIDADESDETECTADAS"
   ]
  },
  {
   "cell_type": "markdown",
   "id": "32a6660e",
   "metadata": {},
   "source": [
    "Define a função resposável por realizar a criação de um áudio mp3, contendo a fala sintetizada dos nomes das celebridades presentes na foto passada como parâmetro."
   ]
  },
  {
   "cell_type": "code",
   "execution_count": 56,
   "id": "9679194b",
   "metadata": {},
   "outputs": [],
   "source": [
    "def read_names(celebrities_names):\n",
    "    response = client_amzpolly.synthesize_speech(\n",
    "        Text = celebrities_names, \n",
    "        VoiceId = \"Salli\", \n",
    "        OutputFormat = \"mp3\"\n",
    "    )\n",
    "    \n",
    "    names = response[\"AudioStream\"].read()\n",
    "    \n",
    "    sound_file = \"celebrities_audio.mp3\"\n",
    "    \n",
    "    with open(sound_file, mode = \"wb\") as file:\n",
    "        file.write(names)\n",
    "        file.close()"
   ]
  },
  {
   "cell_type": "markdown",
   "id": "e6744844",
   "metadata": {},
   "source": [
    "##### LEITURA DOS NOMES DAS CELEBRIDADES DETECTADAS"
   ]
  },
  {
   "cell_type": "markdown",
   "id": "f3fdfbb5",
   "metadata": {},
   "source": [
    "Realiza a leitura do nome das celebridades detectadas na foto analisada."
   ]
  },
  {
   "cell_type": "markdown",
   "id": "344d6bd4",
   "metadata": {},
   "source": [
    "- \"Converte\" uma lista em uma string. Separando cada elemento por um ponto mais um espaço em braco (\". \")."
   ]
  },
  {
   "cell_type": "code",
   "execution_count": 57,
   "id": "9d61f52a",
   "metadata": {},
   "outputs": [],
   "source": [
    "celebrities_names = \"\"\n",
    "celebrities_names = \". \".join(map(str, celebrities_list))"
   ]
  },
  {
   "cell_type": "markdown",
   "id": "9b0548b8",
   "metadata": {},
   "source": [
    "ANOTAÇÕES:\n",
    "    \n",
    "- .join(): Junta todos os intens da tupla em uma string, usando um caractere de específico como separador."
   ]
  },
  {
   "cell_type": "markdown",
   "id": "b751f9a1",
   "metadata": {},
   "source": [
    "- Imprime uma string com o nome de todas as celebridades detectadas na foto."
   ]
  },
  {
   "cell_type": "code",
   "execution_count": 58,
   "id": "7713909f",
   "metadata": {},
   "outputs": [
    {
     "name": "stdout",
     "output_type": "stream",
     "text": [
      "Bradley Cooper. Jennifer Lawrence. Ellen DeGeneres. Meryl Streep. Brad Pitt. Kevin Spacey\n"
     ]
    }
   ],
   "source": [
    "print(celebrities_names)"
   ]
  },
  {
   "cell_type": "markdown",
   "id": "8aba809d",
   "metadata": {},
   "source": [
    "- Chama a função read_names(celebrities_names), definida anteriormente, e que resposável pela leitura dos nomes das celebridades."
   ]
  },
  {
   "cell_type": "code",
   "execution_count": 59,
   "id": "8d821f00",
   "metadata": {},
   "outputs": [],
   "source": [
    "read_names(celebrities_names)"
   ]
  },
  {
   "cell_type": "markdown",
   "id": "87273970",
   "metadata": {},
   "source": [
    "##### REPRODUÇÃO FALA DOS NOMES DAS CELEBRIDADES"
   ]
  },
  {
   "cell_type": "markdown",
   "id": "875b36e0",
   "metadata": {},
   "source": [
    "- Reproduz o áudio mp3 contendo a leitura dos nomes das celebridades."
   ]
  }
 ],
 "metadata": {
  "kernelspec": {
   "display_name": "conda_python3",
   "language": "python",
   "name": "conda_python3"
  },
  "language_info": {
   "codemirror_mode": {
    "name": "ipython",
    "version": 3
   },
   "file_extension": ".py",
   "mimetype": "text/x-python",
   "name": "python",
   "nbconvert_exporter": "python",
   "pygments_lexer": "ipython3",
   "version": "3.6.13"
  }
 },
 "nbformat": 4,
 "nbformat_minor": 5
}
