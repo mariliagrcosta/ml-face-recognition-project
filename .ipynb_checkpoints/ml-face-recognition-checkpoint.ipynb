{
 "cells": [
  {
   "cell_type": "markdown",
   "id": "a1749c56",
   "metadata": {},
   "source": [
    "# PROJETO INTERDISCIPLINAR PARA SISTEMAS DE INFORMAÇÃO IV\n",
    "## PROJETO FINAL\n",
    "\n",
    "*Aluna: Marília Gouveia Rodrigues Costa*"
   ]
  },
  {
   "cell_type": "markdown",
   "id": "aca913c1",
   "metadata": {},
   "source": [
    "__________________________"
   ]
  },
  {
   "cell_type": "markdown",
   "id": "0c2deb47",
   "metadata": {},
   "source": [
    "#### INFORMAÇÕES BÁSICAS SOBRE O PROJETO"
   ]
  },
  {
   "cell_type": "markdown",
   "id": "e4c27874",
   "metadata": {},
   "source": [
    "##### APLICAÇÕES ESCOLHIDAS"
   ]
  },
  {
   "cell_type": "markdown",
   "id": "528e629d",
   "metadata": {},
   "source": [
    "- Aplicação de **reconhecimento facial ou de objetos** utilizando o **Amazon Rekognition**;\n",
    "- Criar um serviço Text-to-Speech (TTS) utilizando Amazon Polly;"
   ]
  },
  {
   "cell_type": "markdown",
   "id": "014852f6",
   "metadata": {},
   "source": [
    "##### OBJETIVOS DO PROJETO"
   ]
  },
  {
   "cell_type": "markdown",
   "id": "a223dd1a",
   "metadata": {},
   "source": [
    "- ###### OBJETIVO GERAL"
   ]
  },
  {
   "cell_type": "markdown",
   "id": "5a3d389a",
   "metadata": {},
   "source": [
    "Desenvolvimento de um sistema para **renhecimento de fotos de pessoas famosas**, que reconheça a pessoa e reproduza seu nome em um alto-falante."
   ]
  },
  {
   "cell_type": "markdown",
   "id": "2fe02d1a",
   "metadata": {},
   "source": [
    "- ###### OBJETIVO ESPECÍFICOS"
   ]
  },
  {
   "cell_type": "markdown",
   "id": "4ee76208",
   "metadata": {},
   "source": [
    "Desenvolvimento de um sistema capaz de reconhecer o ator **Benedict Cumberbatch** em fotos e reproduzir seu nome em um alto-falante."
   ]
  },
  {
   "cell_type": "markdown",
   "id": "2ed0e374",
   "metadata": {},
   "source": [
    "__________________________"
   ]
  },
  {
   "cell_type": "markdown",
   "id": "fa1236a6",
   "metadata": {},
   "source": [
    "#### CÓDIGO"
   ]
  },
  {
   "cell_type": "markdown",
   "id": "b2d6d428",
   "metadata": {},
   "source": [
    "##### IMPORTAÇÃO DE PACOTES DO PYTHON"
   ]
  },
  {
   "cell_type": "markdown",
   "id": "b4149a06",
   "metadata": {},
   "source": [
    "Importação de pacotes do Python que serão necessários para o desenvolvimento do projeto.\n",
    "\n",
    "- *boto3*: Kit de desenvolvimento de software (SDK) da Amazon Web Services (AWS) para Python, que tem como objetivo facilitar a integração do script Python aos serviços da AWS;\n",
    "- *numpy*: Biblioteca destinada a manipulação de dados;\n",
    "- *matplotlib*: Fornecimento de funções de plotagem;\n",
    "- *skimage*: Fornecimento de ferramentas para manipulação de imagem;\n",
    "- *PIL*: Biblioteca de imagens do Python, que possui um conjunto de ferramentas destinadas ao desenho de imagens;"
   ]
  },
  {
   "cell_type": "code",
   "execution_count": 9,
   "id": "57ed15cc",
   "metadata": {},
   "outputs": [],
   "source": [
    "import boto3\n",
    "\n",
    "import numpy as np\n",
    "from matplotlib import pyplot as plt\n",
    "\n",
    "from skimage import io\n",
    "from skimage.transform import rescale\n",
    "\n",
    "from PIL import Image, ImageDraw, ImageColor, ImageOps"
   ]
  },
  {
   "cell_type": "markdown",
   "id": "a75f8648",
   "metadata": {},
   "source": [
    "##### CRIAÇÃO DE CLIENTES DE SERVIÇO"
   ]
  },
  {
   "cell_type": "code",
   "execution_count": null,
   "id": "cfec5fd9",
   "metadata": {},
   "outputs": [],
   "source": []
  },
  {
   "cell_type": "markdown",
   "id": "259e68a3",
   "metadata": {},
   "source": [
    "Criação de uma coleção no Amazon Rekognition."
   ]
  },
  {
   "cell_type": "markdown",
   "id": "89458527",
   "metadata": {},
   "source": [
    "- *Criação,  por nome , de um cliente de serviço de baixo nível usando a sessão padrão.*"
   ]
  },
  {
   "cell_type": "code",
   "execution_count": null,
   "id": "7701dc84",
   "metadata": {},
   "outputs": [],
   "source": [
    "client_amzrekognition = boto3.client('rekognition')"
   ]
  },
  {
   "cell_type": "markdown",
   "id": "37ce9dd1",
   "metadata": {},
   "source": [
    "- *Definição do \"id\" da coleção*"
   ]
  },
  {
   "cell_type": "code",
   "execution_count": null,
   "id": "1762d6f3",
   "metadata": {},
   "outputs": [],
   "source": [
    "collection_id = 'collection'"
   ]
  },
  {
   "cell_type": "markdown",
   "id": "ea33098d",
   "metadata": {},
   "source": [
    "- *Criação de uma coleção em uma região da AWS, utilizando o \"id\" definido anteriormente.*"
   ]
  },
  {
   "cell_type": "code",
   "execution_count": null,
   "id": "9ba2fbb0",
   "metadata": {},
   "outputs": [],
   "source": [
    "response = client_amzrekognition.create_collection(CollectionId=collection_id)"
   ]
  },
  {
   "cell_type": "markdown",
   "id": "a27c72b4",
   "metadata": {},
   "source": [
    "- *Print do Amazon Resource Name/Nome de Recurso da Amazon (ARN) da coleção.*\n",
    "\n",
    "- *Geralmente usado para gerenciar permissões dos recursos.*"
   ]
  },
  {
   "cell_type": "code",
   "execution_count": null,
   "id": "901c89ec",
   "metadata": {},
   "outputs": [],
   "source": [
    "print('Collection ARN: ' + response['CollectionArn'])"
   ]
  },
  {
   "cell_type": "markdown",
   "id": "480c2c6c",
   "metadata": {},
   "source": [
    "- *Print do código de status HTTP que indica o resultado da operação.*"
   ]
  },
  {
   "cell_type": "code",
   "execution_count": null,
   "id": "27243f58",
   "metadata": {},
   "outputs": [],
   "source": [
    "print('Status Code:' + str(response['StatusCode']))"
   ]
  },
  {
   "cell_type": "markdown",
   "id": "cb323c13",
   "metadata": {},
   "source": [
    "- *Print de uma string informando que o processo terminou.*"
   ]
  },
  {
   "cell_type": "code",
   "execution_count": null,
   "id": "c15bb71e",
   "metadata": {},
   "outputs": [],
   "source": [
    "print('PROCESSO CONCLUÍDO...')"
   ]
  },
  {
   "cell_type": "markdown",
   "id": "75787e4d",
   "metadata": {},
   "source": [
    "##### UPLOAD DE IMAGEM PARA PESQUISA "
   ]
  },
  {
   "cell_type": "markdown",
   "id": "dd150e0b",
   "metadata": {},
   "source": [
    "Upload da imagem que, posteriormente, será adicionada a coleção criada e "
   ]
  },
  {
   "cell_type": "markdown",
   "id": "64e0185f",
   "metadata": {},
   "source": [
    "OBS.: O tamanho da imagem precisa ser inferior a 4096 x 4096 pixels. \n",
    "\n",
    "Caso necessário o código: `faceimage = rescale(faceimage, 0.50, mode='constant')` pode ser usado para redimensionar a imgem para 50% do seu tamanho original. \n",
    "\n",
    "Após redimensionar é preciso salvar o arquivo utilizando o seguinte código: `io.imsave(filename, faceimage)`\n",
    "\n",
    "\n"
   ]
  },
  {
   "cell_type": "code",
   "execution_count": null,
   "id": "263b94cb",
   "metadata": {},
   "outputs": [],
   "source": []
  }
 ],
 "metadata": {
  "kernelspec": {
   "display_name": "conda_python3",
   "language": "python",
   "name": "conda_python3"
  },
  "language_info": {
   "codemirror_mode": {
    "name": "ipython",
    "version": 3
   },
   "file_extension": ".py",
   "mimetype": "text/x-python",
   "name": "python",
   "nbconvert_exporter": "python",
   "pygments_lexer": "ipython3",
   "version": "3.6.13"
  }
 },
 "nbformat": 4,
 "nbformat_minor": 5
}
