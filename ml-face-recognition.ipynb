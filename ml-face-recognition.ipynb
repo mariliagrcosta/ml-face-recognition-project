{
 "cells": [
  {
   "cell_type": "markdown",
   "id": "0eff9def",
   "metadata": {},
   "source": [
    "# PROJETO INTERDISCIPLINAR PARA SISTEMAS DE INFORMAÇÃO IV\n",
    "## PROJETO FINAL\n",
    "\n",
    "*Aluna: Marília Gouveia Rodrigues Costa*"
   ]
  },
  {
   "cell_type": "markdown",
   "id": "52a7aee5",
   "metadata": {},
   "source": [
    "__________________________"
   ]
  },
  {
   "cell_type": "markdown",
   "id": "7e72d4f4",
   "metadata": {},
   "source": [
    "#### INFORMAÇÕES BÁSICAS SOBRE O PROJETO"
   ]
  },
  {
   "cell_type": "markdown",
   "id": "59dc402c",
   "metadata": {},
   "source": [
    "##### APLICAÇÃO ESCOLHIDA"
   ]
  },
  {
   "cell_type": "markdown",
   "id": "683c894e",
   "metadata": {},
   "source": [
    "Aplicação de **reconhecimento facial ou de objetos** utilizando o **Amazon Rekognition**"
   ]
  },
  {
   "cell_type": "markdown",
   "id": "1411d326",
   "metadata": {},
   "source": [
    "##### OBJETIVOS DO PROJETO"
   ]
  },
  {
   "cell_type": "markdown",
   "id": "ac598fff",
   "metadata": {},
   "source": [
    "- ###### OBJETIVO GERAL"
   ]
  },
  {
   "cell_type": "markdown",
   "id": "7ee9868f",
   "metadata": {},
   "source": [
    "Desenvolvimento de um sistema para **renhecimento de fotos de pessoas famosas**"
   ]
  },
  {
   "cell_type": "markdown",
   "id": "c24f0894",
   "metadata": {},
   "source": [
    "- ###### OBJETIVO ESPECÍFICOS"
   ]
  },
  {
   "cell_type": "markdown",
   "id": "09f88a1d",
   "metadata": {},
   "source": [
    "Desenvolvimento de um sistema capaz de reconhecer o ator **Benedict Cumberbatch** em fotos."
   ]
  },
  {
   "cell_type": "markdown",
   "id": "6c623a57",
   "metadata": {},
   "source": [
    "__________________________"
   ]
  },
  {
   "cell_type": "markdown",
   "id": "badd1e08",
   "metadata": {},
   "source": [
    "#### CÓDIGO"
   ]
  },
  {
   "cell_type": "markdown",
   "id": "ad75c4e8",
   "metadata": {},
   "source": [
    "##### IMPORTAÇÃO DE PACOTES DO PYTHON"
   ]
  },
  {
   "cell_type": "markdown",
   "id": "6d5b4b5e",
   "metadata": {},
   "source": [
    "Importação de pacotes do Python que serão necessários para o desenvolvimento do projeto.\n",
    "\n",
    "- *boto3*: Kit de desenvolvimento de software (SDK) da Amazon Web Services (AWS) para Python, que tem como objetivo facilitar a integração do script Python aos serviços da AWS;\n",
    "- *numpy*: Biblioteca destinada a manipulação de dados;\n",
    "- *matplotlib*: Fornecimento de funções de plotagem;\n",
    "- *skimage*: Fornecimento de ferramentas para manipulação de imagem;\n",
    "- *PIL*: Biblioteca de imagens do Python, que possui um conjunto de ferramentas destinadas ao desenho de imagens;"
   ]
  },
  {
   "cell_type": "code",
   "execution_count": 9,
   "id": "392d4b8c",
   "metadata": {},
   "outputs": [],
   "source": [
    "import boto3\n",
    "\n",
    "import numpy as np\n",
    "from matplotlib import pyplot as plt\n",
    "\n",
    "from skimage import io\n",
    "from skimage.transform import rescale\n",
    "\n",
    "from PIL import Image, ImageDraw, ImageColor, ImageOps"
   ]
  },
  {
   "cell_type": "markdown",
   "id": "f0d427ac",
   "metadata": {},
   "source": [
    "##### CRIAÇÃO DE COLEÇÃO"
   ]
  },
  {
   "cell_type": "markdown",
   "id": "44cd371b",
   "metadata": {},
   "source": [
    "Criação de uma coleção no Amazon Rekognition."
   ]
  },
  {
   "cell_type": "markdown",
   "id": "4ebaf1ee",
   "metadata": {},
   "source": [
    "- *Criação,  por nome , de um cliente de serviço de baixo nível usando a sessão padrão.*"
   ]
  },
  {
   "cell_type": "code",
   "execution_count": 12,
   "id": "ca28761d",
   "metadata": {},
   "outputs": [],
   "source": [
    "client_amzrekognition = boto3.client('rekognition')"
   ]
  },
  {
   "cell_type": "markdown",
   "id": "b663e046",
   "metadata": {},
   "source": [
    "- *Definição do \"id\" da coleção*"
   ]
  },
  {
   "cell_type": "code",
   "execution_count": null,
   "id": "c20ba542",
   "metadata": {},
   "outputs": [],
   "source": [
    "collection_id = 'collection'"
   ]
  },
  {
   "cell_type": "markdown",
   "id": "60bbe4db",
   "metadata": {},
   "source": [
    "- *Criação de uma coleção em uma região da AWS, utilizando o \"id\" definido anteriormente.*"
   ]
  },
  {
   "cell_type": "code",
   "execution_count": null,
   "id": "6ce29a07",
   "metadata": {},
   "outputs": [],
   "source": [
    "response = client_amzrekognition.create_collection(CollectionId=collection_id)"
   ]
  },
  {
   "cell_type": "markdown",
   "id": "353d5397",
   "metadata": {},
   "source": [
    "- *Print do Amazon Resource Name/Nome de Recurso da Amazon (ARN) da coleção.*\n",
    "\n",
    "- *Geralmente usado para gerenciar permissões dos recursos*"
   ]
  },
  {
   "cell_type": "code",
   "execution_count": null,
   "id": "2c4157c1",
   "metadata": {},
   "outputs": [],
   "source": [
    "print('Collection ARN: ' + response['CollectionArn'])"
   ]
  },
  {
   "cell_type": "markdown",
   "id": "6f799774",
   "metadata": {},
   "source": [
    "- *Print do código de status HTTP que indica o resultado da operação.*"
   ]
  },
  {
   "cell_type": "code",
   "execution_count": null,
   "id": "bf7e25f3",
   "metadata": {},
   "outputs": [],
   "source": [
    "print('Status Code:' + str(response['StatusCode']))"
   ]
  },
  {
   "cell_type": "markdown",
   "id": "d283b91d",
   "metadata": {},
   "source": [
    "- *Print de uma string informando que o processo terminou*"
   ]
  },
  {
   "cell_type": "code",
   "execution_count": null,
   "id": "c87eb6f0",
   "metadata": {},
   "outputs": [],
   "source": [
    "print('PROCESSO CONCLUÍDO...')"
   ]
  }
 ],
 "metadata": {
  "kernelspec": {
   "display_name": "conda_python3",
   "language": "python",
   "name": "conda_python3"
  },
  "language_info": {
   "codemirror_mode": {
    "name": "ipython",
    "version": 3
   },
   "file_extension": ".py",
   "mimetype": "text/x-python",
   "name": "python",
   "nbconvert_exporter": "python",
   "pygments_lexer": "ipython3",
   "version": "3.6.13"
  }
 },
 "nbformat": 4,
 "nbformat_minor": 5
}
