{
 "cells": [
  {
   "cell_type": "markdown",
   "id": "7a87a2f7",
   "metadata": {},
   "source": [
    "# PROJETO INTERDISCIPLINAR PARA SISTEMAS DE INFORMAÇÃO IV\n",
    "## PROJETO FINAL\n",
    "\n",
    "*Aluna: Marília Gouveia Rodrigues Costa*"
   ]
  },
  {
   "cell_type": "markdown",
   "id": "a1d216c2",
   "metadata": {},
   "source": [
    "__________________________"
   ]
  },
  {
   "cell_type": "markdown",
   "id": "f632c7b4",
   "metadata": {},
   "source": [
    "#### INFORMAÇÕES BÁSICAS SOBRE O PROJETO"
   ]
  },
  {
   "cell_type": "markdown",
   "id": "61edbfbb",
   "metadata": {},
   "source": [
    "##### APLICAÇÃO ESCOLHIDA"
   ]
  },
  {
   "cell_type": "markdown",
   "id": "280e35f7",
   "metadata": {},
   "source": [
    "Aplicação de **reconhecimento facial ou de objetos** utilizando o **Amazon Rekognition**"
   ]
  },
  {
   "cell_type": "markdown",
   "id": "cb1db27d",
   "metadata": {},
   "source": [
    "##### OBJETIVOS DO PROJETO"
   ]
  },
  {
   "cell_type": "markdown",
   "id": "58d49edb",
   "metadata": {},
   "source": [
    "- ###### OBJETIVO GERAL"
   ]
  },
  {
   "cell_type": "markdown",
   "id": "7913bbe2",
   "metadata": {},
   "source": [
    "Desenvolvimento de um sistema para **renhecimento de fotos de pessoas famosas**"
   ]
  },
  {
   "cell_type": "markdown",
   "id": "a8089351",
   "metadata": {},
   "source": [
    "- ###### OBJETIVO ESPECÍFICOS"
   ]
  },
  {
   "cell_type": "markdown",
   "id": "c604aa81",
   "metadata": {},
   "source": [
    "Desenvolvimento de um sistema capaz de reconhecer o ator **Benedict Cumberbatch** em fotos."
   ]
  },
  {
   "cell_type": "markdown",
   "id": "ffb50258",
   "metadata": {},
   "source": [
    "__________________________"
   ]
  },
  {
   "cell_type": "markdown",
   "id": "2b41fe69",
   "metadata": {},
   "source": [
    "#### CÓDIGO"
   ]
  },
  {
   "cell_type": "markdown",
   "id": "419fb0c2",
   "metadata": {},
   "source": [
    "##### IMPORTAÇÃO DE PACOTES DO PYTHON"
   ]
  },
  {
   "cell_type": "markdown",
   "id": "3417b41b",
   "metadata": {},
   "source": [
    "Importação de pacotes do Python que serão necessários para o desenvolvimento do projeto.\n",
    "\n",
    "- *boto3*: Kit de desenvolvimento de software (SDK) da Amazon Web Services (AWS) para Python, que tem como objetivo facilitar a integração do script Python aos serviços da AWS;\n",
    "- *numpy*: Biblioteca destinada a manipulação de dados;\n",
    "- *matplotlib*: Fornecimento de funções de plotagem;\n",
    "- *skimage*: Fornecimento de ferramentas para manipulação de imagem;\n",
    "- *PIL*: Biblioteca de imagens do Python, que possui um conjunto de ferramentas destinadas ao desenho de imagens;"
   ]
  },
  {
   "cell_type": "code",
   "execution_count": 9,
   "id": "7d2af8a5",
   "metadata": {},
   "outputs": [],
   "source": [
    "import boto3\n",
    "\n",
    "import numpy as np\n",
    "from matplotlib import pyplot as plt\n",
    "\n",
    "from skimage import io\n",
    "from skimage.transform import rescale\n",
    "\n",
    "from PIL import Image, ImageDraw, ImageColor, ImageOps"
   ]
  },
  {
   "cell_type": "markdown",
   "id": "3381b566",
   "metadata": {},
   "source": [
    "##### CRIAÇÃO DE COLEÇÃO"
   ]
  },
  {
   "cell_type": "markdown",
   "id": "4365a2f1",
   "metadata": {},
   "source": [
    "Criação de uma coleção no Amazon Rekognition."
   ]
  },
  {
   "cell_type": "markdown",
   "id": "a798ee26",
   "metadata": {},
   "source": [
    "- *Criação,  por nome , de um cliente de serviço de baixo nível usando a sessão padrão.*"
   ]
  },
  {
   "cell_type": "code",
   "execution_count": null,
   "id": "65bafe2f",
   "metadata": {},
   "outputs": [],
   "source": [
    "client_amzrekognition = boto3.client('rekognition')"
   ]
  },
  {
   "cell_type": "markdown",
   "id": "ede4022e",
   "metadata": {},
   "source": [
    "- *Definição do \"id\" da coleção*"
   ]
  },
  {
   "cell_type": "code",
   "execution_count": null,
   "id": "df99ee15",
   "metadata": {},
   "outputs": [],
   "source": [
    "collection_id = 'collection'"
   ]
  },
  {
   "cell_type": "markdown",
   "id": "588abfa2",
   "metadata": {},
   "source": [
    "- *Criação de uma coleção em uma região da AWS, utilizando o \"id\" definido anteriormente.*"
   ]
  },
  {
   "cell_type": "code",
   "execution_count": null,
   "id": "0c7ae066",
   "metadata": {},
   "outputs": [],
   "source": [
    "response = client_amzrekognition.create_collection(CollectionId=collection_id)"
   ]
  },
  {
   "cell_type": "markdown",
   "id": "a60cd1c1",
   "metadata": {},
   "source": [
    "- *Print do Amazon Resource Name/Nome de Recurso da Amazon (ARN) da coleção.*\n",
    "\n",
    "- *Geralmente usado para gerenciar permissões dos recursos*"
   ]
  },
  {
   "cell_type": "code",
   "execution_count": null,
   "id": "e2073663",
   "metadata": {},
   "outputs": [],
   "source": [
    "print('Collection ARN: ' + response['CollectionArn'])"
   ]
  },
  {
   "cell_type": "markdown",
   "id": "6b9f0e2c",
   "metadata": {},
   "source": [
    "- *Print do código de status HTTP que indica o resultado da operação.*"
   ]
  },
  {
   "cell_type": "code",
   "execution_count": null,
   "id": "b77df210",
   "metadata": {},
   "outputs": [],
   "source": [
    "print('Status Code:' + str(response['StatusCode']))"
   ]
  },
  {
   "cell_type": "markdown",
   "id": "5cb6abd8",
   "metadata": {},
   "source": [
    "- *Print de uma string informando que o processo terminou*"
   ]
  },
  {
   "cell_type": "code",
   "execution_count": null,
   "id": "0ed666f5",
   "metadata": {},
   "outputs": [],
   "source": [
    "print('PROCESSO CONCLUÍDO...')"
   ]
  }
 ],
 "metadata": {
  "kernelspec": {
   "display_name": "conda_python3",
   "language": "python",
   "name": "conda_python3"
  },
  "language_info": {
   "codemirror_mode": {
    "name": "ipython",
    "version": 3
   },
   "file_extension": ".py",
   "mimetype": "text/x-python",
   "name": "python",
   "nbconvert_exporter": "python",
   "pygments_lexer": "ipython3",
   "version": "3.6.13"
  }
 },
 "nbformat": 4,
 "nbformat_minor": 5
}
